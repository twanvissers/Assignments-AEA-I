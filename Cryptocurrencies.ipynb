{
 "cells": [
  {
   "cell_type": "markdown",
   "metadata": {},
   "source": [
    "# <center> Investing in Cryptocurrencies is a good idea, or not.. </center>\n",
    "\n",
    "|<center>Name|ANR|\n",
    "|----|-------|\n",
    "|Twan Vissers|495770|\n",
    "|Joost Bouten|......</center>|\n",
    "\n",
    "Since the launch of Bitcoin in 2008, hundreds of similar projects based on the blockchain technology have emerged. We call these applications cryptocurrencies. Some are extremely valuable nowadays, take for example [Bitcoin](https://www.bitcoin.com/). Meanwhile others may in potential become at least as valuable as Bitcoin is.\n",
    "> *\"Bitcoin is exciting because it shows how cheap it can be. Bitcoin is better than currency in that you don’t have to be physically in the same place and, of course, for large transactions, currency can get pretty inconvenient.\"* - [Bill Gates](https://www.bloomberg.com/news/videos/2014-10-02/bill-gates-bitcoin-is-exciting-because-its-cheap)\n",
    "\n",
    "<p>The market for Bitcoins is extremely volatile which can yield high rate of returns for some. However, as the intrinsic value of cryptocurrencies is often questioned invested money could potentially disappear within seconds.\n",
    "\n",
    "<p>Yeah let's go, [Sharpe ratio](https://www.investopedia.com/terms/s/sharperatio.asp).\n",
    "\n",
    "\n",
    "# Research Question\n",
    "\n",
    "\n",
    "\n",
    "# Motivation\n",
    "\n",
    "\n",
    "\n",
    "# Method\n",
    "\n",
    "\n",
    "\n",
    "# Key Assumptions\n",
    "\n",
    "\n"
   ]
  },
  {
   "cell_type": "code",
   "execution_count": null,
   "metadata": {
    "collapsed": true
   },
   "outputs": [],
   "source": []
  },
  {
   "cell_type": "code",
   "execution_count": null,
   "metadata": {
    "collapsed": true
   },
   "outputs": [],
   "source": []
  },
  {
   "cell_type": "markdown",
   "metadata": {},
   "source": [
    "# Conclusion\n",
    "\n",
    "This is our conclusion."
   ]
  }
 ],
 "metadata": {
  "kernelspec": {
   "display_name": "Python 2",
   "language": "python",
   "name": "python2"
  },
  "language_info": {
   "codemirror_mode": {
    "name": "ipython",
    "version": 2
   },
   "file_extension": ".py",
   "mimetype": "text/x-python",
   "name": "python",
   "nbconvert_exporter": "python",
   "pygments_lexer": "ipython2",
   "version": "2.7.13"
  }
 },
 "nbformat": 4,
 "nbformat_minor": 2
}
